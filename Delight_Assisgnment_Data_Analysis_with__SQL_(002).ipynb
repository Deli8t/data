{
  "nbformat": 4,
  "nbformat_minor": 0,
  "metadata": {
    "colab": {
      "name": "Delight_Assisgnment_Data_Analysis_with__SQL (002).ipynb",
      "provenance": [],
      "collapsed_sections": []
    },
    "kernelspec": {
      "name": "python3",
      "display_name": "Python 3"
    },
    "language_info": {
      "name": "python"
    }
  },
  "cells": [
    {
      "cell_type": "markdown",
      "source": [
        "**Instructions**\n",
        "\n",
        "\n",
        "Over the past few years, ride-sharing apps have been on the rise across many cities in the world. \n",
        "While this has happened, Uber and Lyft's ride prices are not constant like\n",
        "public transport. They are greatly affected by the demand and supply of rides at a given time.\n",
        "As a Data Scientist working to understand this market, you have been tasked to come up with a descriptive analysis report to help a Ride-Sharing Startup coming into this space, understand the various patterns on how pricing works for the existing ride-sharing company.\n",
        "Luckily, you were able to access some real-time data from Uber & Lyft's API and weather data from Weather API conditions.\n",
        "You build a custom application in Scala to query data at regular intervals and saved it to DynamoDB. The queried cab ride estimates are done after every 5 mins and weather data after every 1 hr.\n",
        "The cab ride data covers various types of cabs for Uber & Lyft and their price for the given location. Weather data contains weather attributes like temperature, rain, cloud,  etc for all the locations taken into consideration.\n",
        "\n"
      ],
      "metadata": {
        "id": "ksJTIrHY6wAs"
      }
    },
    {
      "cell_type": "markdown",
      "source": [
        "**Pre-requisites**\n"
      ],
      "metadata": {
        "id": "G6xxwyWGAFDH"
      }
    },
    {
      "cell_type": "code",
      "source": [
        "# We will first load an sql extension. \n",
        "# Notebook extensions are simple add-ons that extend the basic \n",
        "# functionality of the notebook environment. \n",
        "# This extension will allow us to run SQL code in our Notebook.\n",
        "# ---\n",
        "#\n",
        "%load_ext sql"
      ],
      "metadata": {
        "id": "Te-pL283AW3k",
        "colab": {
          "base_uri": "https://localhost:8080/"
        },
        "outputId": "6f03b4a2-ef19-45ac-b6ea-cf7d63de7e11"
      },
      "execution_count": 15,
      "outputs": [
        {
          "output_type": "stream",
          "name": "stdout",
          "text": [
            "The sql extension is already loaded. To reload it, use:\n",
            "  %reload_ext sql\n"
          ]
        }
      ]
    },
    {
      "cell_type": "code",
      "source": [
        "# We will then connect to an in memory SQLite database within colaboratory. \n",
        "# Something to note is that this in memory dataset will be deleted as \n",
        "# soon the dataset connection is lost, meaning when our connection to \n",
        "# the servers is disconnected then our database will cease to exist.\n",
        "# ---\n",
        "#  \n",
        "%sql sqlite://"
      ],
      "metadata": {
        "colab": {
          "base_uri": "https://localhost:8080/",
          "height": 36
        },
        "id": "lRCaXmsLAdhk",
        "outputId": "aeb2479c-7a65-473e-d0d6-7abf166057a9"
      },
      "execution_count": 16,
      "outputs": [
        {
          "output_type": "execute_result",
          "data": {
            "application/vnd.google.colaboratory.intrinsic+json": {
              "type": "string"
            },
            "text/plain": [
              "'Connected: @None'"
            ]
          },
          "metadata": {},
          "execution_count": 16
        }
      ]
    },
    {
      "cell_type": "code",
      "source": [
        "# We will now need the pandas library to read our csv file \n",
        "# from an external the source. \n",
        "# ---\n",
        "#\n",
        "import pandas as pd"
      ],
      "metadata": {
        "id": "4ARXNWLcAkZk"
      },
      "execution_count": 17,
      "outputs": []
    },
    {
      "cell_type": "code",
      "source": [
        "cab_rides = pd.read_csv(\"cab_rides.csv\", encoding=\"ISO-8859-1\")\n",
        "\n",
        "\n",
        "\n"
      ],
      "metadata": {
        "id": "H2IA9tENMT8u"
      },
      "execution_count": 18,
      "outputs": []
    },
    {
      "cell_type": "markdown",
      "source": [
        "**Importing** **Data**"
      ],
      "metadata": {
        "id": "Eht-H6rxApZL"
      }
    },
    {
      "cell_type": "code",
      "source": [
        "# We load our first dataset from a csv file as shown then  \n",
        "# after store the dataset in our in memory sqlite database.\n",
        "# We read our dataset from its source and store it in a dataframe \n",
        "# called cab_rides \n",
        "# ---\n",
        "#\n",
        "cab_rides = pd.read_csv('/content/cab_rides.csv') \n",
        "\n",
        "# Then store it in an SQL table of our in memory sqlite database \n",
        "# --- \n",
        "# \n",
        "\n",
        "# We then delete the table if it exists in our database\n",
        "# ---\n",
        "#\n",
        "%sql DROP TABLE IF EXISTS cab_rides;\n",
        "\n",
        "# And finally store our table in the table name insurance within our dataset.\n",
        "# The persist command will create a table in the database to which we are connected, \n",
        "# the table name will be the same as dataframe variable.\n",
        "# ---\n",
        "#\n",
        "%sql PERSIST cab_rides;\n",
        "\n",
        "# Preview the first 5 records of the insurance dataset \n",
        "# ---\n",
        "#\n",
        "%sql SELECT * FROM cab_rides LIMIT 5;"
      ],
      "metadata": {
        "colab": {
          "base_uri": "https://localhost:8080/",
          "height": 233
        },
        "id": "6CR4iZQKAu_w",
        "outputId": "78b89170-7acf-42d1-a60f-77d5b8b3925e"
      },
      "execution_count": 19,
      "outputs": [
        {
          "output_type": "stream",
          "name": "stdout",
          "text": [
            " * sqlite://\n",
            "Done.\n",
            " * sqlite://\n",
            " * sqlite://\n",
            "Done.\n"
          ]
        },
        {
          "output_type": "execute_result",
          "data": {
            "text/html": [
              "<table>\n",
              "    <thead>\n",
              "        <tr>\n",
              "            <th>index</th>\n",
              "            <th>distance</th>\n",
              "            <th>cab_type</th>\n",
              "            <th>time_stamp</th>\n",
              "            <th>destination</th>\n",
              "            <th>source</th>\n",
              "            <th>price</th>\n",
              "            <th>surge_multiplier</th>\n",
              "            <th>id</th>\n",
              "            <th>product_id</th>\n",
              "            <th>name</th>\n",
              "        </tr>\n",
              "    </thead>\n",
              "    <tbody>\n",
              "        <tr>\n",
              "            <td>0</td>\n",
              "            <td>0.44</td>\n",
              "            <td>Lyft</td>\n",
              "            <td>1544950000000.0</td>\n",
              "            <td>North Station</td>\n",
              "            <td>Haymarket Square</td>\n",
              "            <td>5.0</td>\n",
              "            <td>1.0</td>\n",
              "            <td>424553bb-7174-41ea-aeb4-fe06d4f4b9d7</td>\n",
              "            <td>lyft_line</td>\n",
              "            <td>Shared</td>\n",
              "        </tr>\n",
              "        <tr>\n",
              "            <td>1</td>\n",
              "            <td>0.44</td>\n",
              "            <td>Lyft</td>\n",
              "            <td>1543280000000.0</td>\n",
              "            <td>North Station</td>\n",
              "            <td>Haymarket Square</td>\n",
              "            <td>11.0</td>\n",
              "            <td>1.0</td>\n",
              "            <td>4bd23055-6827-41c6-b23b-3c491f24e74d</td>\n",
              "            <td>lyft_premier</td>\n",
              "            <td>Lux</td>\n",
              "        </tr>\n",
              "        <tr>\n",
              "            <td>2</td>\n",
              "            <td>0.44</td>\n",
              "            <td>Lyft</td>\n",
              "            <td>1543370000000.0</td>\n",
              "            <td>North Station</td>\n",
              "            <td>Haymarket Square</td>\n",
              "            <td>7.0</td>\n",
              "            <td>1.0</td>\n",
              "            <td>981a3613-77af-4620-a42a-0c0866077d1e</td>\n",
              "            <td>lyft</td>\n",
              "            <td>Lyft</td>\n",
              "        </tr>\n",
              "        <tr>\n",
              "            <td>3</td>\n",
              "            <td>0.44</td>\n",
              "            <td>Lyft</td>\n",
              "            <td>1543550000000.0</td>\n",
              "            <td>North Station</td>\n",
              "            <td>Haymarket Square</td>\n",
              "            <td>26.0</td>\n",
              "            <td>1.0</td>\n",
              "            <td>c2d88af2-d278-4bfd-a8d0-29ca77cc5512</td>\n",
              "            <td>lyft_luxsuv</td>\n",
              "            <td>Lux Black XL</td>\n",
              "        </tr>\n",
              "        <tr>\n",
              "            <td>4</td>\n",
              "            <td>0.44</td>\n",
              "            <td>Lyft</td>\n",
              "            <td>1543460000000.0</td>\n",
              "            <td>North Station</td>\n",
              "            <td>Haymarket Square</td>\n",
              "            <td>9.0</td>\n",
              "            <td>1.0</td>\n",
              "            <td>e0126e1f-8ca9-4f2e-82b3-50505a09db9a</td>\n",
              "            <td>lyft_plus</td>\n",
              "            <td>Lyft XL</td>\n",
              "        </tr>\n",
              "    </tbody>\n",
              "</table>"
            ],
            "text/plain": [
              "[(0, 0.44, 'Lyft', 1544950000000.0, 'North Station', 'Haymarket Square', 5.0, 1.0, '424553bb-7174-41ea-aeb4-fe06d4f4b9d7', 'lyft_line', 'Shared'),\n",
              " (1, 0.44, 'Lyft', 1543280000000.0, 'North Station', 'Haymarket Square', 11.0, 1.0, '4bd23055-6827-41c6-b23b-3c491f24e74d', 'lyft_premier', 'Lux'),\n",
              " (2, 0.44, 'Lyft', 1543370000000.0, 'North Station', 'Haymarket Square', 7.0, 1.0, '981a3613-77af-4620-a42a-0c0866077d1e', 'lyft', 'Lyft'),\n",
              " (3, 0.44, 'Lyft', 1543550000000.0, 'North Station', 'Haymarket Square', 26.0, 1.0, 'c2d88af2-d278-4bfd-a8d0-29ca77cc5512', 'lyft_luxsuv', 'Lux Black XL'),\n",
              " (4, 0.44, 'Lyft', 1543460000000.0, 'North Station', 'Haymarket Square', 9.0, 1.0, 'e0126e1f-8ca9-4f2e-82b3-50505a09db9a', 'lyft_plus', 'Lyft XL')]"
            ]
          },
          "metadata": {},
          "execution_count": 19
        }
      ]
    },
    {
      "cell_type": "code",
      "source": [
        "weather = pd.read_csv(\"/content/weather.csv\", encoding=\"ISO-8859-1\")"
      ],
      "metadata": {
        "id": "SNVT3Dx6Qam8"
      },
      "execution_count": 13,
      "outputs": []
    },
    {
      "cell_type": "code",
      "source": [
        "# We load our first dataset from a csv file as shown then  \n",
        "# after store the dataset in our in memory sqlite database.\n",
        "# We read our dataset from its source and store it in a dataframe \n",
        "# called weather\n",
        "# ---\n",
        "#\n",
        "weather = pd.read_csv('/content/weather.csv') \n",
        "\n",
        "# Then store it in an SQL table of our in memory sqlite database \n",
        "# --- \n",
        "# \n",
        "\n",
        "# We then delete the table if it exists in our database\n",
        "# ---\n",
        "#\n",
        "%sql DROP TABLE IF EXISTS weather;\n",
        "\n",
        "# And finally store our table in the table name insurance within our dataset.\n",
        "# The persist command will create a table in the database to which we are connected, \n",
        "# the table name will be the same as dataframe variable.\n",
        "# ---\n",
        "#\n",
        "%sql PERSIST weather;\n",
        "\n",
        "# Preview the first 5 records of the weather dataset \n",
        "# ---\n",
        "#\n",
        "%sql SELECT * FROM weather LIMIT 5;"
      ],
      "metadata": {
        "colab": {
          "base_uri": "https://localhost:8080/",
          "height": 233
        },
        "id": "xlTxU6UMQlGY",
        "outputId": "228176d5-0656-4606-de65-675b6b904023"
      },
      "execution_count": 14,
      "outputs": [
        {
          "output_type": "stream",
          "name": "stdout",
          "text": [
            " * sqlite://\n",
            "Done.\n",
            " * sqlite://\n",
            " * sqlite://\n",
            "Done.\n"
          ]
        },
        {
          "output_type": "execute_result",
          "data": {
            "text/html": [
              "<table>\n",
              "    <thead>\n",
              "        <tr>\n",
              "            <th>index</th>\n",
              "            <th>temp</th>\n",
              "            <th>location</th>\n",
              "            <th>clouds</th>\n",
              "            <th>pressure</th>\n",
              "            <th>rain</th>\n",
              "            <th>time_stamp</th>\n",
              "            <th>humidity</th>\n",
              "            <th>wind</th>\n",
              "        </tr>\n",
              "    </thead>\n",
              "    <tbody>\n",
              "        <tr>\n",
              "            <td>0</td>\n",
              "            <td>42.42</td>\n",
              "            <td>Back Bay</td>\n",
              "            <td>1.0</td>\n",
              "            <td>1012.14</td>\n",
              "            <td>0.1228</td>\n",
              "            <td>1545003901</td>\n",
              "            <td>0.77</td>\n",
              "            <td>11.25</td>\n",
              "        </tr>\n",
              "        <tr>\n",
              "            <td>1</td>\n",
              "            <td>42.43</td>\n",
              "            <td>Beacon Hill</td>\n",
              "            <td>1.0</td>\n",
              "            <td>1012.15</td>\n",
              "            <td>0.1846</td>\n",
              "            <td>1545003901</td>\n",
              "            <td>0.76</td>\n",
              "            <td>11.32</td>\n",
              "        </tr>\n",
              "        <tr>\n",
              "            <td>2</td>\n",
              "            <td>42.5</td>\n",
              "            <td>Boston University</td>\n",
              "            <td>1.0</td>\n",
              "            <td>1012.15</td>\n",
              "            <td>0.1089</td>\n",
              "            <td>1545003901</td>\n",
              "            <td>0.76</td>\n",
              "            <td>11.07</td>\n",
              "        </tr>\n",
              "        <tr>\n",
              "            <td>3</td>\n",
              "            <td>42.11</td>\n",
              "            <td>Fenway</td>\n",
              "            <td>1.0</td>\n",
              "            <td>1012.13</td>\n",
              "            <td>0.0969</td>\n",
              "            <td>1545003901</td>\n",
              "            <td>0.77</td>\n",
              "            <td>11.09</td>\n",
              "        </tr>\n",
              "        <tr>\n",
              "            <td>4</td>\n",
              "            <td>43.13</td>\n",
              "            <td>Financial District</td>\n",
              "            <td>1.0</td>\n",
              "            <td>1012.14</td>\n",
              "            <td>0.1786</td>\n",
              "            <td>1545003901</td>\n",
              "            <td>0.75</td>\n",
              "            <td>11.49</td>\n",
              "        </tr>\n",
              "    </tbody>\n",
              "</table>"
            ],
            "text/plain": [
              "[(0, 42.42, 'Back Bay', 1.0, 1012.14, 0.1228, 1545003901, 0.77, 11.25),\n",
              " (1, 42.43, 'Beacon Hill', 1.0, 1012.15, 0.1846, 1545003901, 0.76, 11.32),\n",
              " (2, 42.5, 'Boston University', 1.0, 1012.15, 0.1089, 1545003901, 0.76, 11.07),\n",
              " (3, 42.11, 'Fenway', 1.0, 1012.13, 0.0969, 1545003901, 0.77, 11.09),\n",
              " (4, 43.13, 'Financial District', 1.0, 1012.14, 0.1786, 1545003901, 0.75, 11.49)]"
            ]
          },
          "metadata": {},
          "execution_count": 14
        }
      ]
    },
    {
      "cell_type": "code",
      "source": [
        "#Filtering, Sorting, and Grouping\n",
        "#Perform filtering, sorting, and grouping to explore a dataset using the SQL language\n",
        "\n",
        "%%sql \n",
        "SELECT SUM(price) AS 'Total Sales from Financial District '\n",
        "FROM cab_rides\n",
        "WHERE source = 'Financial District';"
      ],
      "metadata": {
        "id": "-0cSjCl2Jjnk",
        "colab": {
          "base_uri": "https://localhost:8080/",
          "height": 95
        },
        "outputId": "143ec8cf-0c5e-4141-f32b-fe24dedeae65"
      },
      "execution_count": 25,
      "outputs": [
        {
          "output_type": "stream",
          "name": "stdout",
          "text": [
            " * sqlite://\n",
            "Done.\n"
          ]
        },
        {
          "output_type": "execute_result",
          "data": {
            "text/html": [
              "<table>\n",
              "    <thead>\n",
              "        <tr>\n",
              "            <th>Total Sales from Financial District </th>\n",
              "        </tr>\n",
              "    </thead>\n",
              "    <tbody>\n",
              "        <tr>\n",
              "            <td>985375.7999999999</td>\n",
              "        </tr>\n",
              "    </tbody>\n",
              "</table>"
            ],
            "text/plain": [
              "[(985375.7999999999,)]"
            ]
          },
          "metadata": {},
          "execution_count": 25
        }
      ]
    },
    {
      "cell_type": "code",
      "source": [
        "# Getting the avg weather pattern for locations\n",
        "# ---\n",
        "\n",
        "%%sql \n",
        "SELECT location, AVG(wind) FROM weather\n",
        "GROUP BY location\n",
        "ORDER BY AVG(wind) DESC\n",
        "LIMIT 10;"
      ],
      "metadata": {
        "colab": {
          "base_uri": "https://localhost:8080/",
          "height": 280
        },
        "id": "3sLtQXq0e4hj",
        "outputId": "3aef8278-7237-4fe8-9c3c-cc84d24fcc86"
      },
      "execution_count": 21,
      "outputs": [
        {
          "output_type": "stream",
          "name": "stdout",
          "text": [
            " * sqlite://\n",
            "Done.\n"
          ]
        },
        {
          "output_type": "execute_result",
          "data": {
            "text/html": [
              "<table>\n",
              "    <thead>\n",
              "        <tr>\n",
              "            <th>location</th>\n",
              "            <th>AVG(wind)</th>\n",
              "        </tr>\n",
              "    </thead>\n",
              "    <tbody>\n",
              "        <tr>\n",
              "            <td>Financial District</td>\n",
              "            <td>6.860019120458891</td>\n",
              "        </tr>\n",
              "        <tr>\n",
              "            <td>North End</td>\n",
              "            <td>6.8531166347992345</td>\n",
              "        </tr>\n",
              "        <tr>\n",
              "            <td>South Station</td>\n",
              "            <td>6.848948374760993</td>\n",
              "        </tr>\n",
              "        <tr>\n",
              "            <td>Haymarket Square</td>\n",
              "            <td>6.843193116634804</td>\n",
              "        </tr>\n",
              "        <tr>\n",
              "            <td>North Station</td>\n",
              "            <td>6.835755258126191</td>\n",
              "        </tr>\n",
              "        <tr>\n",
              "            <td>Theatre District</td>\n",
              "            <td>6.834302103250482</td>\n",
              "        </tr>\n",
              "        <tr>\n",
              "            <td>West End</td>\n",
              "            <td>6.816233269598474</td>\n",
              "        </tr>\n",
              "        <tr>\n",
              "            <td>Beacon Hill</td>\n",
              "            <td>6.8103250478011494</td>\n",
              "        </tr>\n",
              "        <tr>\n",
              "            <td>Back Bay</td>\n",
              "            <td>6.778527724665383</td>\n",
              "        </tr>\n",
              "        <tr>\n",
              "            <td>Northeastern University</td>\n",
              "            <td>6.749426386233272</td>\n",
              "        </tr>\n",
              "    </tbody>\n",
              "</table>"
            ],
            "text/plain": [
              "[('Financial District', 6.860019120458891),\n",
              " ('North End', 6.8531166347992345),\n",
              " ('South Station', 6.848948374760993),\n",
              " ('Haymarket Square', 6.843193116634804),\n",
              " ('North Station', 6.835755258126191),\n",
              " ('Theatre District', 6.834302103250482),\n",
              " ('West End', 6.816233269598474),\n",
              " ('Beacon Hill', 6.8103250478011494),\n",
              " ('Back Bay', 6.778527724665383),\n",
              " ('Northeastern University', 6.749426386233272)]"
            ]
          },
          "metadata": {},
          "execution_count": 21
        }
      ]
    },
    {
      "cell_type": "code",
      "source": [
        "#Data Formatting\n",
        "#Perform data formatting of numeric data to prepare data for further analysis using the SQL language.\n",
        "\n",
        "%%sql \n",
        "SELECT UPPER(source) AS SOURCE, price AS PRICE\n",
        "FROM cab_rides \n",
        "LIMIT 5; "
      ],
      "metadata": {
        "id": "7o12sCWPJlm9",
        "colab": {
          "base_uri": "https://localhost:8080/",
          "height": 177
        },
        "outputId": "9eaabc34-ab13-4acb-fe11-ebfbabc36ea0"
      },
      "execution_count": 23,
      "outputs": [
        {
          "output_type": "stream",
          "name": "stdout",
          "text": [
            " * sqlite://\n",
            "Done.\n"
          ]
        },
        {
          "output_type": "execute_result",
          "data": {
            "text/html": [
              "<table>\n",
              "    <thead>\n",
              "        <tr>\n",
              "            <th>SOURCE</th>\n",
              "            <th>PRICE</th>\n",
              "        </tr>\n",
              "    </thead>\n",
              "    <tbody>\n",
              "        <tr>\n",
              "            <td>HAYMARKET SQUARE</td>\n",
              "            <td>5.0</td>\n",
              "        </tr>\n",
              "        <tr>\n",
              "            <td>HAYMARKET SQUARE</td>\n",
              "            <td>11.0</td>\n",
              "        </tr>\n",
              "        <tr>\n",
              "            <td>HAYMARKET SQUARE</td>\n",
              "            <td>7.0</td>\n",
              "        </tr>\n",
              "        <tr>\n",
              "            <td>HAYMARKET SQUARE</td>\n",
              "            <td>26.0</td>\n",
              "        </tr>\n",
              "        <tr>\n",
              "            <td>HAYMARKET SQUARE</td>\n",
              "            <td>9.0</td>\n",
              "        </tr>\n",
              "    </tbody>\n",
              "</table>"
            ],
            "text/plain": [
              "[('HAYMARKET SQUARE', 5.0),\n",
              " ('HAYMARKET SQUARE', 11.0),\n",
              " ('HAYMARKET SQUARE', 7.0),\n",
              " ('HAYMARKET SQUARE', 26.0),\n",
              " ('HAYMARKET SQUARE', 9.0)]"
            ]
          },
          "metadata": {},
          "execution_count": 23
        }
      ]
    },
    {
      "cell_type": "code",
      "source": [
        "#Basic Statistical Techniques\n",
        "#Perform basic statistical techniques using COUNT, MIN, MAX, and SUM functions using the SQL language.\n",
        "#AVG\n",
        "%%sql \n",
        "SELECT cab_type, AVG(distance), AVG(price) FROM cab_rides\n",
        "WHERE destination = 'Financial District'\n",
        "GROUP BY cab_type \n",
        "ORDER BY AVG(distance) DESC\n",
        "LIMIT 5;"
      ],
      "metadata": {
        "id": "9Tck_CtnJvft",
        "colab": {
          "base_uri": "https://localhost:8080/",
          "height": 116
        },
        "outputId": "d3181c1a-02ce-40e5-aaeb-18701a9f9079"
      },
      "execution_count": 26,
      "outputs": [
        {
          "output_type": "stream",
          "name": "stdout",
          "text": [
            " * sqlite://\n",
            "Done.\n"
          ]
        },
        {
          "output_type": "execute_result",
          "data": {
            "text/html": [
              "<table>\n",
              "    <thead>\n",
              "        <tr>\n",
              "            <th>cab_type</th>\n",
              "            <th>AVG(distance)</th>\n",
              "            <th>AVG(price)</th>\n",
              "        </tr>\n",
              "    </thead>\n",
              "    <tbody>\n",
              "        <tr>\n",
              "            <td>Uber</td>\n",
              "            <td>2.6406739643702153</td>\n",
              "            <td>17.15554124633326</td>\n",
              "        </tr>\n",
              "        <tr>\n",
              "            <td>Lyft</td>\n",
              "            <td>2.5251497827579095</td>\n",
              "            <td>18.99527403003278</td>\n",
              "        </tr>\n",
              "    </tbody>\n",
              "</table>"
            ],
            "text/plain": [
              "[('Uber', 2.6406739643702153, 17.15554124633326),\n",
              " ('Lyft', 2.5251497827579095, 18.99527403003278)]"
            ]
          },
          "metadata": {},
          "execution_count": 26
        }
      ]
    },
    {
      "cell_type": "code",
      "source": [
        "#COUNT\n",
        "%%sql \n",
        "SELECT cab_type, destination, Count(cab_type) FROM cab_rides\n",
        "GROUP BY destination\n",
        "ORDER BY cab_type DESC\n",
        "LIMIT 10;"
      ],
      "metadata": {
        "colab": {
          "base_uri": "https://localhost:8080/",
          "height": 280
        },
        "id": "IBxzlOJio5QM",
        "outputId": "9be6f4da-cc0e-45b9-e2f8-9997af6f2301"
      },
      "execution_count": 27,
      "outputs": [
        {
          "output_type": "stream",
          "name": "stdout",
          "text": [
            " * sqlite://\n",
            "Done.\n"
          ]
        },
        {
          "output_type": "execute_result",
          "data": {
            "text/html": [
              "<table>\n",
              "    <thead>\n",
              "        <tr>\n",
              "            <th>cab_type</th>\n",
              "            <th>destination</th>\n",
              "            <th>Count(cab_type)</th>\n",
              "        </tr>\n",
              "    </thead>\n",
              "    <tbody>\n",
              "        <tr>\n",
              "            <td>Uber</td>\n",
              "            <td>Beacon Hill</td>\n",
              "            <td>57403</td>\n",
              "        </tr>\n",
              "        <tr>\n",
              "            <td>Uber</td>\n",
              "            <td>Financial District</td>\n",
              "            <td>58851</td>\n",
              "        </tr>\n",
              "        <tr>\n",
              "            <td>Uber</td>\n",
              "            <td>Haymarket Square</td>\n",
              "            <td>57764</td>\n",
              "        </tr>\n",
              "        <tr>\n",
              "            <td>Uber</td>\n",
              "            <td>North End</td>\n",
              "            <td>57756</td>\n",
              "        </tr>\n",
              "        <tr>\n",
              "            <td>Uber</td>\n",
              "            <td>North Station</td>\n",
              "            <td>57119</td>\n",
              "        </tr>\n",
              "        <tr>\n",
              "            <td>Uber</td>\n",
              "            <td>Northeastern University</td>\n",
              "            <td>57755</td>\n",
              "        </tr>\n",
              "        <tr>\n",
              "            <td>Uber</td>\n",
              "            <td>South Station</td>\n",
              "            <td>57749</td>\n",
              "        </tr>\n",
              "        <tr>\n",
              "            <td>Uber</td>\n",
              "            <td>West End</td>\n",
              "            <td>57575</td>\n",
              "        </tr>\n",
              "        <tr>\n",
              "            <td>Lyft</td>\n",
              "            <td>Back Bay</td>\n",
              "            <td>57780</td>\n",
              "        </tr>\n",
              "        <tr>\n",
              "            <td>Lyft</td>\n",
              "            <td>Boston University</td>\n",
              "            <td>57764</td>\n",
              "        </tr>\n",
              "    </tbody>\n",
              "</table>"
            ],
            "text/plain": [
              "[('Uber', 'Beacon Hill', 57403),\n",
              " ('Uber', 'Financial District', 58851),\n",
              " ('Uber', 'Haymarket Square', 57764),\n",
              " ('Uber', 'North End', 57756),\n",
              " ('Uber', 'North Station', 57119),\n",
              " ('Uber', 'Northeastern University', 57755),\n",
              " ('Uber', 'South Station', 57749),\n",
              " ('Uber', 'West End', 57575),\n",
              " ('Lyft', 'Back Bay', 57780),\n",
              " ('Lyft', 'Boston University', 57764)]"
            ]
          },
          "metadata": {},
          "execution_count": 27
        }
      ]
    },
    {
      "cell_type": "code",
      "source": [
        "#SUM\n",
        "%%sql \n",
        "SELECT cab_type, product_id, SUM(price) FROM cab_rides\n",
        "GROUP BY product_id\n",
        "ORDER BY SUM(price) DESC\n",
        "LIMIT 10;\n",
        "\n"
      ],
      "metadata": {
        "colab": {
          "base_uri": "https://localhost:8080/",
          "height": 280
        },
        "id": "I9iZprHWqLBl",
        "outputId": "3a2f44c4-3874-4fee-881c-5a513f3c4b15"
      },
      "execution_count": 28,
      "outputs": [
        {
          "output_type": "stream",
          "name": "stdout",
          "text": [
            " * sqlite://\n",
            "Done.\n"
          ]
        },
        {
          "output_type": "execute_result",
          "data": {
            "text/html": [
              "<table>\n",
              "    <thead>\n",
              "        <tr>\n",
              "            <th>cab_type</th>\n",
              "            <th>product_id</th>\n",
              "            <th>SUM(price)</th>\n",
              "        </tr>\n",
              "    </thead>\n",
              "    <tbody>\n",
              "        <tr>\n",
              "            <td>Uber</td>\n",
              "            <td>6d318bcc-22a3-4af6-bddd-b409bfce1546</td>\n",
              "            <td>1668679.5</td>\n",
              "        </tr>\n",
              "        <tr>\n",
              "            <td>Lyft</td>\n",
              "            <td>lyft_luxsuv</td>\n",
              "            <td>1656124.55</td>\n",
              "        </tr>\n",
              "        <tr>\n",
              "            <td>Lyft</td>\n",
              "            <td>lyft_lux</td>\n",
              "            <td>1181605.55</td>\n",
              "        </tr>\n",
              "        <tr>\n",
              "            <td>Uber</td>\n",
              "            <td>6c84fd89-3f11-4782-9b50-97c468b19529</td>\n",
              "            <td>1130758.0</td>\n",
              "        </tr>\n",
              "        <tr>\n",
              "            <td>Lyft</td>\n",
              "            <td>lyft_premier</td>\n",
              "            <td>910509.5</td>\n",
              "        </tr>\n",
              "        <tr>\n",
              "            <td>Uber</td>\n",
              "            <td>6f72dfc5-27f1-42e8-84db-ccc7a75f6969</td>\n",
              "            <td>863803.0</td>\n",
              "        </tr>\n",
              "        <tr>\n",
              "            <td>Lyft</td>\n",
              "            <td>lyft_plus</td>\n",
              "            <td>784375.2</td>\n",
              "        </tr>\n",
              "        <tr>\n",
              "            <td>Uber</td>\n",
              "            <td>9a0e7b09-b92b-4c41-9779-2ad22b4d779d</td>\n",
              "            <td>538013.5</td>\n",
              "        </tr>\n",
              "        <tr>\n",
              "            <td>Uber</td>\n",
              "            <td>55c66225-fbe7-4fd5-9072-eab1ece5e23e</td>\n",
              "            <td>537997.0</td>\n",
              "        </tr>\n",
              "        <tr>\n",
              "            <td>Lyft</td>\n",
              "            <td>lyft</td>\n",
              "            <td>492413.67999999993</td>\n",
              "        </tr>\n",
              "    </tbody>\n",
              "</table>"
            ],
            "text/plain": [
              "[('Uber', '6d318bcc-22a3-4af6-bddd-b409bfce1546', 1668679.5),\n",
              " ('Lyft', 'lyft_luxsuv', 1656124.55),\n",
              " ('Lyft', 'lyft_lux', 1181605.55),\n",
              " ('Uber', '6c84fd89-3f11-4782-9b50-97c468b19529', 1130758.0),\n",
              " ('Lyft', 'lyft_premier', 910509.5),\n",
              " ('Uber', '6f72dfc5-27f1-42e8-84db-ccc7a75f6969', 863803.0),\n",
              " ('Lyft', 'lyft_plus', 784375.2),\n",
              " ('Uber', '9a0e7b09-b92b-4c41-9779-2ad22b4d779d', 538013.5),\n",
              " ('Uber', '55c66225-fbe7-4fd5-9072-eab1ece5e23e', 537997.0),\n",
              " ('Lyft', 'lyft', 492413.67999999993)]"
            ]
          },
          "metadata": {},
          "execution_count": 28
        }
      ]
    },
    {
      "cell_type": "code",
      "source": [
        "#MIN\n",
        "%%sql \n",
        "SELECT cab_type, product_id, MIN(price) FROM cab_rides\n",
        "GROUP BY product_id\n",
        "ORDER BY MIN(price) DESC\n",
        "LIMIT 10;\n"
      ],
      "metadata": {
        "colab": {
          "base_uri": "https://localhost:8080/",
          "height": 280
        },
        "id": "z-cGw-H4yCe4",
        "outputId": "1d75431b-b3b3-402d-f55a-a536f3509191"
      },
      "execution_count": 29,
      "outputs": [
        {
          "output_type": "stream",
          "name": "stdout",
          "text": [
            " * sqlite://\n",
            "Done.\n"
          ]
        },
        {
          "output_type": "execute_result",
          "data": {
            "text/html": [
              "<table>\n",
              "    <thead>\n",
              "        <tr>\n",
              "            <th>cab_type</th>\n",
              "            <th>product_id</th>\n",
              "            <th>MIN(price)</th>\n",
              "        </tr>\n",
              "    </thead>\n",
              "    <tbody>\n",
              "        <tr>\n",
              "            <td>Lyft</td>\n",
              "            <td>lyft_luxsuv</td>\n",
              "            <td>26.0</td>\n",
              "        </tr>\n",
              "        <tr>\n",
              "            <td>Uber</td>\n",
              "            <td>6d318bcc-22a3-4af6-bddd-b409bfce1546</td>\n",
              "            <td>23.0</td>\n",
              "        </tr>\n",
              "        <tr>\n",
              "            <td>Lyft</td>\n",
              "            <td>lyft_lux</td>\n",
              "            <td>16.5</td>\n",
              "        </tr>\n",
              "        <tr>\n",
              "            <td>Uber</td>\n",
              "            <td>6c84fd89-3f11-4782-9b50-97c468b19529</td>\n",
              "            <td>13.5</td>\n",
              "        </tr>\n",
              "        <tr>\n",
              "            <td>Lyft</td>\n",
              "            <td>lyft_premier</td>\n",
              "            <td>10.5</td>\n",
              "        </tr>\n",
              "        <tr>\n",
              "            <td>Lyft</td>\n",
              "            <td>lyft_plus</td>\n",
              "            <td>9.0</td>\n",
              "        </tr>\n",
              "        <tr>\n",
              "            <td>Uber</td>\n",
              "            <td>6f72dfc5-27f1-42e8-84db-ccc7a75f6969</td>\n",
              "            <td>8.0</td>\n",
              "        </tr>\n",
              "        <tr>\n",
              "            <td>Uber</td>\n",
              "            <td>55c66225-fbe7-4fd5-9072-eab1ece5e23e</td>\n",
              "            <td>6.0</td>\n",
              "        </tr>\n",
              "        <tr>\n",
              "            <td>Uber</td>\n",
              "            <td>9a0e7b09-b92b-4c41-9779-2ad22b4d779d</td>\n",
              "            <td>6.0</td>\n",
              "        </tr>\n",
              "        <tr>\n",
              "            <td>Lyft</td>\n",
              "            <td>lyft</td>\n",
              "            <td>5.0</td>\n",
              "        </tr>\n",
              "    </tbody>\n",
              "</table>"
            ],
            "text/plain": [
              "[('Lyft', 'lyft_luxsuv', 26.0),\n",
              " ('Uber', '6d318bcc-22a3-4af6-bddd-b409bfce1546', 23.0),\n",
              " ('Lyft', 'lyft_lux', 16.5),\n",
              " ('Uber', '6c84fd89-3f11-4782-9b50-97c468b19529', 13.5),\n",
              " ('Lyft', 'lyft_premier', 10.5),\n",
              " ('Lyft', 'lyft_plus', 9.0),\n",
              " ('Uber', '6f72dfc5-27f1-42e8-84db-ccc7a75f6969', 8.0),\n",
              " ('Uber', '55c66225-fbe7-4fd5-9072-eab1ece5e23e', 6.0),\n",
              " ('Uber', '9a0e7b09-b92b-4c41-9779-2ad22b4d779d', 6.0),\n",
              " ('Lyft', 'lyft', 5.0)]"
            ]
          },
          "metadata": {},
          "execution_count": 29
        }
      ]
    },
    {
      "cell_type": "code",
      "source": [
        "#MAX\n",
        "%%sql \n",
        "SELECT cab_type, product_id, MAX(price) FROM cab_rides\n",
        "GROUP BY product_id\n",
        "ORDER BY MAX(price) DESC\n",
        "LIMIT 10;\n"
      ],
      "metadata": {
        "colab": {
          "base_uri": "https://localhost:8080/",
          "height": 280
        },
        "id": "TG4dbw-dyGSq",
        "outputId": "9d8f7a1e-f3a1-410a-8163-6be5252fee94"
      },
      "execution_count": 30,
      "outputs": [
        {
          "output_type": "stream",
          "name": "stdout",
          "text": [
            " * sqlite://\n",
            "Done.\n"
          ]
        },
        {
          "output_type": "execute_result",
          "data": {
            "text/html": [
              "<table>\n",
              "    <thead>\n",
              "        <tr>\n",
              "            <th>cab_type</th>\n",
              "            <th>product_id</th>\n",
              "            <th>MAX(price)</th>\n",
              "        </tr>\n",
              "    </thead>\n",
              "    <tbody>\n",
              "        <tr>\n",
              "            <td>Lyft</td>\n",
              "            <td>lyft_luxsuv</td>\n",
              "            <td>97.5</td>\n",
              "        </tr>\n",
              "        <tr>\n",
              "            <td>Uber</td>\n",
              "            <td>6d318bcc-22a3-4af6-bddd-b409bfce1546</td>\n",
              "            <td>89.5</td>\n",
              "        </tr>\n",
              "        <tr>\n",
              "            <td>Uber</td>\n",
              "            <td>6f72dfc5-27f1-42e8-84db-ccc7a75f6969</td>\n",
              "            <td>76.0</td>\n",
              "        </tr>\n",
              "        <tr>\n",
              "            <td>Lyft</td>\n",
              "            <td>lyft_lux</td>\n",
              "            <td>75.0</td>\n",
              "        </tr>\n",
              "        <tr>\n",
              "            <td>Uber</td>\n",
              "            <td>6c84fd89-3f11-4782-9b50-97c468b19529</td>\n",
              "            <td>68.5</td>\n",
              "        </tr>\n",
              "        <tr>\n",
              "            <td>Lyft</td>\n",
              "            <td>lyft_plus</td>\n",
              "            <td>65.0</td>\n",
              "        </tr>\n",
              "        <tr>\n",
              "            <td>Lyft</td>\n",
              "            <td>lyft_premier</td>\n",
              "            <td>55.0</td>\n",
              "        </tr>\n",
              "        <tr>\n",
              "            <td>Uber</td>\n",
              "            <td>55c66225-fbe7-4fd5-9072-eab1ece5e23e</td>\n",
              "            <td>44.0</td>\n",
              "        </tr>\n",
              "        <tr>\n",
              "            <td>Uber</td>\n",
              "            <td>9a0e7b09-b92b-4c41-9779-2ad22b4d779d</td>\n",
              "            <td>44.0</td>\n",
              "        </tr>\n",
              "        <tr>\n",
              "            <td>Uber</td>\n",
              "            <td>997acbb5-e102-41e1-b155-9df7de0a73f2</td>\n",
              "            <td>42.5</td>\n",
              "        </tr>\n",
              "    </tbody>\n",
              "</table>"
            ],
            "text/plain": [
              "[('Lyft', 'lyft_luxsuv', 97.5),\n",
              " ('Uber', '6d318bcc-22a3-4af6-bddd-b409bfce1546', 89.5),\n",
              " ('Uber', '6f72dfc5-27f1-42e8-84db-ccc7a75f6969', 76.0),\n",
              " ('Lyft', 'lyft_lux', 75.0),\n",
              " ('Uber', '6c84fd89-3f11-4782-9b50-97c468b19529', 68.5),\n",
              " ('Lyft', 'lyft_plus', 65.0),\n",
              " ('Lyft', 'lyft_premier', 55.0),\n",
              " ('Uber', '55c66225-fbe7-4fd5-9072-eab1ece5e23e', 44.0),\n",
              " ('Uber', '9a0e7b09-b92b-4c41-9779-2ad22b4d779d', 44.0),\n",
              " ('Uber', '997acbb5-e102-41e1-b155-9df7de0a73f2', 42.5)]"
            ]
          },
          "metadata": {},
          "execution_count": 30
        }
      ]
    },
    {
      "cell_type": "code",
      "source": [
        "%%sql\n",
        "SELECT *\n",
        "FROM cab_rides, weather\n",
        "WHERE cab_rides.destination = weather.location\n",
        "LIMIT 5;"
      ],
      "metadata": {
        "colab": {
          "base_uri": "https://localhost:8080/",
          "height": 462
        },
        "id": "kTjPESlMuplV",
        "outputId": "78c77672-aac5-4aee-d8c5-71d6266ced86"
      },
      "execution_count": null,
      "outputs": [
        {
          "output_type": "stream",
          "name": "stdout",
          "text": [
            " * sqlite://\n",
            "Done.\n"
          ]
        },
        {
          "output_type": "execute_result",
          "data": {
            "text/html": [
              "<table>\n",
              "    <thead>\n",
              "        <tr>\n",
              "            <th>index</th>\n",
              "            <th>distance</th>\n",
              "            <th>cab_type</th>\n",
              "            <th>time_stamp</th>\n",
              "            <th>destination</th>\n",
              "            <th>source</th>\n",
              "            <th>price</th>\n",
              "            <th>surge_multiplier</th>\n",
              "            <th>id</th>\n",
              "            <th>product_id</th>\n",
              "            <th>name</th>\n",
              "            <th>index_1</th>\n",
              "            <th>temp</th>\n",
              "            <th>location</th>\n",
              "            <th>clouds</th>\n",
              "            <th>pressure</th>\n",
              "            <th>rain</th>\n",
              "            <th>time_stamp_1</th>\n",
              "            <th>humidity</th>\n",
              "            <th>wind</th>\n",
              "        </tr>\n",
              "    </thead>\n",
              "    <tbody>\n",
              "        <tr>\n",
              "            <td>0</td>\n",
              "            <td>0.44</td>\n",
              "            <td>Lyft</td>\n",
              "            <td>1544952607890</td>\n",
              "            <td>North Station</td>\n",
              "            <td>Haymarket Square</td>\n",
              "            <td>5.0</td>\n",
              "            <td>1.0</td>\n",
              "            <td>424553bb-7174-41ea-aeb4-fe06d4f4b9d7</td>\n",
              "            <td>lyft_line</td>\n",
              "            <td>Shared</td>\n",
              "            <td>7</td>\n",
              "            <td>42.21</td>\n",
              "            <td>North Station</td>\n",
              "            <td>1.0</td>\n",
              "            <td>1012.16</td>\n",
              "            <td>0.2069</td>\n",
              "            <td>1545003901</td>\n",
              "            <td>0.77</td>\n",
              "            <td>11.37</td>\n",
              "        </tr>\n",
              "        <tr>\n",
              "            <td>0</td>\n",
              "            <td>0.44</td>\n",
              "            <td>Lyft</td>\n",
              "            <td>1544952607890</td>\n",
              "            <td>North Station</td>\n",
              "            <td>Haymarket Square</td>\n",
              "            <td>5.0</td>\n",
              "            <td>1.0</td>\n",
              "            <td>424553bb-7174-41ea-aeb4-fe06d4f4b9d7</td>\n",
              "            <td>lyft_line</td>\n",
              "            <td>Shared</td>\n",
              "            <td>18</td>\n",
              "            <td>41.95</td>\n",
              "            <td>North Station</td>\n",
              "            <td>0.81</td>\n",
              "            <td>991.63</td>\n",
              "            <td>None</td>\n",
              "            <td>1543347920</td>\n",
              "            <td>0.73</td>\n",
              "            <td>10.87</td>\n",
              "        </tr>\n",
              "        <tr>\n",
              "            <td>0</td>\n",
              "            <td>0.44</td>\n",
              "            <td>Lyft</td>\n",
              "            <td>1544952607890</td>\n",
              "            <td>North Station</td>\n",
              "            <td>Haymarket Square</td>\n",
              "            <td>5.0</td>\n",
              "            <td>1.0</td>\n",
              "            <td>424553bb-7174-41ea-aeb4-fe06d4f4b9d7</td>\n",
              "            <td>lyft_line</td>\n",
              "            <td>Shared</td>\n",
              "            <td>23</td>\n",
              "            <td>43.92</td>\n",
              "            <td>North Station</td>\n",
              "            <td>1.0</td>\n",
              "            <td>1006.29</td>\n",
              "            <td>0.0409</td>\n",
              "            <td>1543277833</td>\n",
              "            <td>0.9</td>\n",
              "            <td>10.09</td>\n",
              "        </tr>\n",
              "        <tr>\n",
              "            <td>0</td>\n",
              "            <td>0.44</td>\n",
              "            <td>Lyft</td>\n",
              "            <td>1544952607890</td>\n",
              "            <td>North Station</td>\n",
              "            <td>Haymarket Square</td>\n",
              "            <td>5.0</td>\n",
              "            <td>1.0</td>\n",
              "            <td>424553bb-7174-41ea-aeb4-fe06d4f4b9d7</td>\n",
              "            <td>lyft_line</td>\n",
              "            <td>Shared</td>\n",
              "            <td>43</td>\n",
              "            <td>27.22</td>\n",
              "            <td>North Station</td>\n",
              "            <td>0.15</td>\n",
              "            <td>1033.4</td>\n",
              "            <td>None</td>\n",
              "            <td>1544787901</td>\n",
              "            <td>0.81</td>\n",
              "            <td>3.01</td>\n",
              "        </tr>\n",
              "        <tr>\n",
              "            <td>0</td>\n",
              "            <td>0.44</td>\n",
              "            <td>Lyft</td>\n",
              "            <td>1544952607890</td>\n",
              "            <td>North Station</td>\n",
              "            <td>Haymarket Square</td>\n",
              "            <td>5.0</td>\n",
              "            <td>1.0</td>\n",
              "            <td>424553bb-7174-41ea-aeb4-fe06d4f4b9d7</td>\n",
              "            <td>lyft_line</td>\n",
              "            <td>Shared</td>\n",
              "            <td>54</td>\n",
              "            <td>45.47</td>\n",
              "            <td>North Station</td>\n",
              "            <td>1.0</td>\n",
              "            <td>1012.47</td>\n",
              "            <td>None</td>\n",
              "            <td>1543253710</td>\n",
              "            <td>0.86</td>\n",
              "            <td>6.5</td>\n",
              "        </tr>\n",
              "    </tbody>\n",
              "</table>"
            ],
            "text/plain": [
              "[(0, 0.44, 'Lyft', 1544952607890, 'North Station', 'Haymarket Square', 5.0, 1.0, '424553bb-7174-41ea-aeb4-fe06d4f4b9d7', 'lyft_line', 'Shared', 7, 42.21, 'North Station', 1.0, 1012.16, 0.2069, 1545003901, 0.77, 11.37),\n",
              " (0, 0.44, 'Lyft', 1544952607890, 'North Station', 'Haymarket Square', 5.0, 1.0, '424553bb-7174-41ea-aeb4-fe06d4f4b9d7', 'lyft_line', 'Shared', 18, 41.95, 'North Station', 0.81, 991.63, None, 1543347920, 0.73, 10.87),\n",
              " (0, 0.44, 'Lyft', 1544952607890, 'North Station', 'Haymarket Square', 5.0, 1.0, '424553bb-7174-41ea-aeb4-fe06d4f4b9d7', 'lyft_line', 'Shared', 23, 43.92, 'North Station', 1.0, 1006.29, 0.0409, 1543277833, 0.9, 10.09),\n",
              " (0, 0.44, 'Lyft', 1544952607890, 'North Station', 'Haymarket Square', 5.0, 1.0, '424553bb-7174-41ea-aeb4-fe06d4f4b9d7', 'lyft_line', 'Shared', 43, 27.22, 'North Station', 0.15, 1033.4, None, 1544787901, 0.81, 3.01),\n",
              " (0, 0.44, 'Lyft', 1544952607890, 'North Station', 'Haymarket Square', 5.0, 1.0, '424553bb-7174-41ea-aeb4-fe06d4f4b9d7', 'lyft_line', 'Shared', 54, 45.47, 'North Station', 1.0, 1012.47, None, 1543253710, 0.86, 6.5)]"
            ]
          },
          "metadata": {},
          "execution_count": 29
        }
      ]
    }
  ]
}