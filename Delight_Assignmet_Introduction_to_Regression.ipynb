{
  "nbformat": 4,
  "nbformat_minor": 0,
  "metadata": {
    "colab": {
      "name": "Delight_Assignmet_Introduction to Regression.ipynb",
      "provenance": [],
      "collapsed_sections": [],
      "toc_visible": true,
      "authorship_tag": "ABX9TyOW4vVCUzyjtkynWI4tsjmQ",
      "include_colab_link": true
    },
    "kernelspec": {
      "name": "python3",
      "display_name": "Python 3"
    },
    "language_info": {
      "name": "python"
    }
  },
  "cells": [
    {
      "cell_type": "markdown",
      "metadata": {
        "id": "view-in-github",
        "colab_type": "text"
      },
      "source": [
        "<a href=\"https://colab.research.google.com/github/Deli8t/data/blob/master/Delight_Assignmet_Introduction_to_Regression.ipynb\" target=\"_parent\"><img src=\"https://colab.research.google.com/assets/colab-badge.svg\" alt=\"Open In Colab\"/></a>"
      ]
    },
    {
      "cell_type": "markdown",
      "source": [
        "# Project Notebook -Introduction to Regression Project\n",
        "\n",
        "\n",
        "\n",
        "# Background Information\n",
        "**Problem Statement**\n",
        "\n",
        "Mobile carrier Megaline has found out that many of their subscribers use legacy plans.\n",
        "They want to develop a model that would analyze subscribers' behavior and recommend\n",
        "one of Megaline's newer plans: Smart or Ultra.\n",
        "You have access to behavior data about subscribers who have already switched to the\n",
        "new plans (from the project for the Statistical Data Analysis course). For this\n",
        "classification task, you need to develop a model that will pick the right plan. Since you’ve\n",
        "already performed the data preprocessing step, you can move straight to creating the\n",
        "model.\n",
        "Develop a model with the highest possible accuracy. In this project, the threshold for\n",
        "accuracy is 0.75. Check the accuracy using the test dataset.\n",
        "\n",
        "1. Open and look through the data file.\n",
        "2. Split the source data into a training set, a validation set, and a test set.\n",
        "3. Investigate the quality of different models by changing hyperparameters. Briefly\n",
        "describe the findings of the study.\n",
        "4. Check the quality of the model using the test set.\n",
        "5. Additional task: sanity check the model. This data is more complex than what\n",
        "you’re used to working with, so it's not an easy task. We'll take a closer look at it\n",
        "later.\n",
        "\n",
        "**Dataset**\n",
        "\n",
        "● Dataset URL (CSV File): https://bit.ly/UsersBehaviourTelco"
      ],
      "metadata": {
        "id": "6gJDdiDf1Ir1"
      }
    },
    {
      "cell_type": "markdown",
      "source": [
        "# 1.Data Exploration"
      ],
      "metadata": {
        "id": "B0h7w3N33Lqu"
      }
    },
    {
      "cell_type": "code",
      "source": [
        "#We will now import  libraries we require  to read our csv file \n",
        "# from an external  source. \n",
        "\n",
        "import pandas as pd\n",
        "import numpy as np\n",
        "from sklearn.ensemble import RandomForestRegressor\n",
        "from sklearn.metrics import mean_squared_error\n",
        "from sklearn.model_selection import train_test_split\n",
        "from sklearn.tree import DecisionTreeRegressor\n",
        "from sklearn.linear_model import LogisticRegression\n",
        "from sklearn.tree import DecisionTreeClassifier\n",
        "from sklearn.metrics import accuracy_score\n",
        "from sklearn.preprocessing import StandardScaler\n",
        "from sklearn.ensemble import RandomForestClassifier\n",
        "\n",
        "user_behaviour = pd.read_csv(\"https://bit.ly/UsersBehaviourTelco\")\n",
        "                 \n",
        "user_behaviour.head()"
      ],
      "metadata": {
        "colab": {
          "base_uri": "https://localhost:8080/",
          "height": 206
        },
        "id": "h-VeOKE02zk4",
        "outputId": "da53eb19-9982-45cf-8657-a1f3b7f0a9e2"
      },
      "execution_count": 30,
      "outputs": [
        {
          "output_type": "execute_result",
          "data": {
            "text/html": [
              "\n",
              "  <div id=\"df-8520d44f-f229-46b8-8563-e2eed62df0cc\">\n",
              "    <div class=\"colab-df-container\">\n",
              "      <div>\n",
              "<style scoped>\n",
              "    .dataframe tbody tr th:only-of-type {\n",
              "        vertical-align: middle;\n",
              "    }\n",
              "\n",
              "    .dataframe tbody tr th {\n",
              "        vertical-align: top;\n",
              "    }\n",
              "\n",
              "    .dataframe thead th {\n",
              "        text-align: right;\n",
              "    }\n",
              "</style>\n",
              "<table border=\"1\" class=\"dataframe\">\n",
              "  <thead>\n",
              "    <tr style=\"text-align: right;\">\n",
              "      <th></th>\n",
              "      <th>calls</th>\n",
              "      <th>minutes</th>\n",
              "      <th>messages</th>\n",
              "      <th>mb_used</th>\n",
              "      <th>is_ultra</th>\n",
              "    </tr>\n",
              "  </thead>\n",
              "  <tbody>\n",
              "    <tr>\n",
              "      <th>0</th>\n",
              "      <td>40.0</td>\n",
              "      <td>311.90</td>\n",
              "      <td>83.0</td>\n",
              "      <td>19915.42</td>\n",
              "      <td>0</td>\n",
              "    </tr>\n",
              "    <tr>\n",
              "      <th>1</th>\n",
              "      <td>85.0</td>\n",
              "      <td>516.75</td>\n",
              "      <td>56.0</td>\n",
              "      <td>22696.96</td>\n",
              "      <td>0</td>\n",
              "    </tr>\n",
              "    <tr>\n",
              "      <th>2</th>\n",
              "      <td>77.0</td>\n",
              "      <td>467.66</td>\n",
              "      <td>86.0</td>\n",
              "      <td>21060.45</td>\n",
              "      <td>0</td>\n",
              "    </tr>\n",
              "    <tr>\n",
              "      <th>3</th>\n",
              "      <td>106.0</td>\n",
              "      <td>745.53</td>\n",
              "      <td>81.0</td>\n",
              "      <td>8437.39</td>\n",
              "      <td>1</td>\n",
              "    </tr>\n",
              "    <tr>\n",
              "      <th>4</th>\n",
              "      <td>66.0</td>\n",
              "      <td>418.74</td>\n",
              "      <td>1.0</td>\n",
              "      <td>14502.75</td>\n",
              "      <td>0</td>\n",
              "    </tr>\n",
              "  </tbody>\n",
              "</table>\n",
              "</div>\n",
              "      <button class=\"colab-df-convert\" onclick=\"convertToInteractive('df-8520d44f-f229-46b8-8563-e2eed62df0cc')\"\n",
              "              title=\"Convert this dataframe to an interactive table.\"\n",
              "              style=\"display:none;\">\n",
              "        \n",
              "  <svg xmlns=\"http://www.w3.org/2000/svg\" height=\"24px\"viewBox=\"0 0 24 24\"\n",
              "       width=\"24px\">\n",
              "    <path d=\"M0 0h24v24H0V0z\" fill=\"none\"/>\n",
              "    <path d=\"M18.56 5.44l.94 2.06.94-2.06 2.06-.94-2.06-.94-.94-2.06-.94 2.06-2.06.94zm-11 1L8.5 8.5l.94-2.06 2.06-.94-2.06-.94L8.5 2.5l-.94 2.06-2.06.94zm10 10l.94 2.06.94-2.06 2.06-.94-2.06-.94-.94-2.06-.94 2.06-2.06.94z\"/><path d=\"M17.41 7.96l-1.37-1.37c-.4-.4-.92-.59-1.43-.59-.52 0-1.04.2-1.43.59L10.3 9.45l-7.72 7.72c-.78.78-.78 2.05 0 2.83L4 21.41c.39.39.9.59 1.41.59.51 0 1.02-.2 1.41-.59l7.78-7.78 2.81-2.81c.8-.78.8-2.07 0-2.86zM5.41 20L4 18.59l7.72-7.72 1.47 1.35L5.41 20z\"/>\n",
              "  </svg>\n",
              "      </button>\n",
              "      \n",
              "  <style>\n",
              "    .colab-df-container {\n",
              "      display:flex;\n",
              "      flex-wrap:wrap;\n",
              "      gap: 12px;\n",
              "    }\n",
              "\n",
              "    .colab-df-convert {\n",
              "      background-color: #E8F0FE;\n",
              "      border: none;\n",
              "      border-radius: 50%;\n",
              "      cursor: pointer;\n",
              "      display: none;\n",
              "      fill: #1967D2;\n",
              "      height: 32px;\n",
              "      padding: 0 0 0 0;\n",
              "      width: 32px;\n",
              "    }\n",
              "\n",
              "    .colab-df-convert:hover {\n",
              "      background-color: #E2EBFA;\n",
              "      box-shadow: 0px 1px 2px rgba(60, 64, 67, 0.3), 0px 1px 3px 1px rgba(60, 64, 67, 0.15);\n",
              "      fill: #174EA6;\n",
              "    }\n",
              "\n",
              "    [theme=dark] .colab-df-convert {\n",
              "      background-color: #3B4455;\n",
              "      fill: #D2E3FC;\n",
              "    }\n",
              "\n",
              "    [theme=dark] .colab-df-convert:hover {\n",
              "      background-color: #434B5C;\n",
              "      box-shadow: 0px 1px 3px 1px rgba(0, 0, 0, 0.15);\n",
              "      filter: drop-shadow(0px 1px 2px rgba(0, 0, 0, 0.3));\n",
              "      fill: #FFFFFF;\n",
              "    }\n",
              "  </style>\n",
              "\n",
              "      <script>\n",
              "        const buttonEl =\n",
              "          document.querySelector('#df-8520d44f-f229-46b8-8563-e2eed62df0cc button.colab-df-convert');\n",
              "        buttonEl.style.display =\n",
              "          google.colab.kernel.accessAllowed ? 'block' : 'none';\n",
              "\n",
              "        async function convertToInteractive(key) {\n",
              "          const element = document.querySelector('#df-8520d44f-f229-46b8-8563-e2eed62df0cc');\n",
              "          const dataTable =\n",
              "            await google.colab.kernel.invokeFunction('convertToInteractive',\n",
              "                                                     [key], {});\n",
              "          if (!dataTable) return;\n",
              "\n",
              "          const docLinkHtml = 'Like what you see? Visit the ' +\n",
              "            '<a target=\"_blank\" href=https://colab.research.google.com/notebooks/data_table.ipynb>data table notebook</a>'\n",
              "            + ' to learn more about interactive tables.';\n",
              "          element.innerHTML = '';\n",
              "          dataTable['output_type'] = 'display_data';\n",
              "          await google.colab.output.renderOutput(dataTable, element);\n",
              "          const docLink = document.createElement('div');\n",
              "          docLink.innerHTML = docLinkHtml;\n",
              "          element.appendChild(docLink);\n",
              "        }\n",
              "      </script>\n",
              "    </div>\n",
              "  </div>\n",
              "  "
            ],
            "text/plain": [
              "   calls  minutes  messages   mb_used  is_ultra\n",
              "0   40.0   311.90      83.0  19915.42         0\n",
              "1   85.0   516.75      56.0  22696.96         0\n",
              "2   77.0   467.66      86.0  21060.45         0\n",
              "3  106.0   745.53      81.0   8437.39         1\n",
              "4   66.0   418.74       1.0  14502.75         0"
            ]
          },
          "metadata": {},
          "execution_count": 30
        }
      ]
    },
    {
      "cell_type": "code",
      "source": [
        "#Checking the type of a dataset\n",
        "user_behaviour.dtypes"
      ],
      "metadata": {
        "colab": {
          "base_uri": "https://localhost:8080/"
        },
        "id": "VeMF5xMI4o-v",
        "outputId": "8659563d-9620-4dc4-ee00-721d1a2e3228"
      },
      "execution_count": null,
      "outputs": [
        {
          "output_type": "execute_result",
          "data": {
            "text/plain": [
              "calls       float64\n",
              "minutes     float64\n",
              "messages    float64\n",
              "mb_used     float64\n",
              "is_ultra      int64\n",
              "dtype: object"
            ]
          },
          "metadata": {},
          "execution_count": 3
        }
      ]
    },
    {
      "cell_type": "code",
      "source": [
        "#Checking the size of a dataset\n",
        "user_behaviour.shape"
      ],
      "metadata": {
        "colab": {
          "base_uri": "https://localhost:8080/"
        },
        "id": "Smr2wUol4uvK",
        "outputId": "80226509-4574-40c9-97d5-c96ab6267a20"
      },
      "execution_count": null,
      "outputs": [
        {
          "output_type": "execute_result",
          "data": {
            "text/plain": [
              "(3214, 5)"
            ]
          },
          "metadata": {},
          "execution_count": 4
        }
      ]
    },
    {
      "cell_type": "code",
      "source": [
        "#checking for null values\n",
        "user_behaviour.isna().sum()"
      ],
      "metadata": {
        "colab": {
          "base_uri": "https://localhost:8080/"
        },
        "id": "WhhdOWew42af",
        "outputId": "979b3fa7-f28f-474e-cca0-62b08bc270b3"
      },
      "execution_count": null,
      "outputs": [
        {
          "output_type": "execute_result",
          "data": {
            "text/plain": [
              "calls       0\n",
              "minutes     0\n",
              "messages    0\n",
              "mb_used     0\n",
              "is_ultra    0\n",
              "dtype: int64"
            ]
          },
          "metadata": {},
          "execution_count": 5
        }
      ]
    },
    {
      "cell_type": "code",
      "source": [
        "#information about the data frame\n",
        "user_behaviour.info()"
      ],
      "metadata": {
        "colab": {
          "base_uri": "https://localhost:8080/"
        },
        "id": "iwPA_KFk6gms",
        "outputId": "64332451-52cd-4f3f-9f11-aea8f6bcdcd3"
      },
      "execution_count": null,
      "outputs": [
        {
          "output_type": "stream",
          "name": "stdout",
          "text": [
            "<class 'pandas.core.frame.DataFrame'>\n",
            "RangeIndex: 3214 entries, 0 to 3213\n",
            "Data columns (total 5 columns):\n",
            " #   Column    Non-Null Count  Dtype  \n",
            "---  ------    --------------  -----  \n",
            " 0   calls     3214 non-null   float64\n",
            " 1   minutes   3214 non-null   float64\n",
            " 2   messages  3214 non-null   float64\n",
            " 3   mb_used   3214 non-null   float64\n",
            " 4   is_ultra  3214 non-null   int64  \n",
            "dtypes: float64(4), int64(1)\n",
            "memory usage: 125.7 KB\n"
          ]
        }
      ]
    },
    {
      "cell_type": "code",
      "source": [
        "#checking for the duplicate values\n",
        "any(user_behaviour.duplicated())"
      ],
      "metadata": {
        "colab": {
          "base_uri": "https://localhost:8080/"
        },
        "id": "n2TKBz-m6wo_",
        "outputId": "98555819-5861-423c-ba44-fda62f531304"
      },
      "execution_count": null,
      "outputs": [
        {
          "output_type": "execute_result",
          "data": {
            "text/plain": [
              "False"
            ]
          },
          "metadata": {},
          "execution_count": 8
        }
      ]
    },
    {
      "cell_type": "code",
      "source": [
        "#describing the dataset\n",
        "user_behaviour.describe()"
      ],
      "metadata": {
        "colab": {
          "base_uri": "https://localhost:8080/",
          "height": 300
        },
        "id": "_vMKXGE-7Do5",
        "outputId": "daf7e82b-f2bf-4ec0-b75d-9df00b2e13a6"
      },
      "execution_count": null,
      "outputs": [
        {
          "output_type": "execute_result",
          "data": {
            "text/html": [
              "\n",
              "  <div id=\"df-00ad0f5b-649d-437c-aa98-4ed7ecf3d7a8\">\n",
              "    <div class=\"colab-df-container\">\n",
              "      <div>\n",
              "<style scoped>\n",
              "    .dataframe tbody tr th:only-of-type {\n",
              "        vertical-align: middle;\n",
              "    }\n",
              "\n",
              "    .dataframe tbody tr th {\n",
              "        vertical-align: top;\n",
              "    }\n",
              "\n",
              "    .dataframe thead th {\n",
              "        text-align: right;\n",
              "    }\n",
              "</style>\n",
              "<table border=\"1\" class=\"dataframe\">\n",
              "  <thead>\n",
              "    <tr style=\"text-align: right;\">\n",
              "      <th></th>\n",
              "      <th>calls</th>\n",
              "      <th>minutes</th>\n",
              "      <th>messages</th>\n",
              "      <th>mb_used</th>\n",
              "      <th>is_ultra</th>\n",
              "    </tr>\n",
              "  </thead>\n",
              "  <tbody>\n",
              "    <tr>\n",
              "      <th>count</th>\n",
              "      <td>3214.000000</td>\n",
              "      <td>3214.000000</td>\n",
              "      <td>3214.000000</td>\n",
              "      <td>3214.000000</td>\n",
              "      <td>3214.000000</td>\n",
              "    </tr>\n",
              "    <tr>\n",
              "      <th>mean</th>\n",
              "      <td>63.038892</td>\n",
              "      <td>438.208787</td>\n",
              "      <td>38.281269</td>\n",
              "      <td>17207.673836</td>\n",
              "      <td>0.306472</td>\n",
              "    </tr>\n",
              "    <tr>\n",
              "      <th>std</th>\n",
              "      <td>33.236368</td>\n",
              "      <td>234.569872</td>\n",
              "      <td>36.148326</td>\n",
              "      <td>7570.968246</td>\n",
              "      <td>0.461100</td>\n",
              "    </tr>\n",
              "    <tr>\n",
              "      <th>min</th>\n",
              "      <td>0.000000</td>\n",
              "      <td>0.000000</td>\n",
              "      <td>0.000000</td>\n",
              "      <td>0.000000</td>\n",
              "      <td>0.000000</td>\n",
              "    </tr>\n",
              "    <tr>\n",
              "      <th>25%</th>\n",
              "      <td>40.000000</td>\n",
              "      <td>274.575000</td>\n",
              "      <td>9.000000</td>\n",
              "      <td>12491.902500</td>\n",
              "      <td>0.000000</td>\n",
              "    </tr>\n",
              "    <tr>\n",
              "      <th>50%</th>\n",
              "      <td>62.000000</td>\n",
              "      <td>430.600000</td>\n",
              "      <td>30.000000</td>\n",
              "      <td>16943.235000</td>\n",
              "      <td>0.000000</td>\n",
              "    </tr>\n",
              "    <tr>\n",
              "      <th>75%</th>\n",
              "      <td>82.000000</td>\n",
              "      <td>571.927500</td>\n",
              "      <td>57.000000</td>\n",
              "      <td>21424.700000</td>\n",
              "      <td>1.000000</td>\n",
              "    </tr>\n",
              "    <tr>\n",
              "      <th>max</th>\n",
              "      <td>244.000000</td>\n",
              "      <td>1632.060000</td>\n",
              "      <td>224.000000</td>\n",
              "      <td>49745.730000</td>\n",
              "      <td>1.000000</td>\n",
              "    </tr>\n",
              "  </tbody>\n",
              "</table>\n",
              "</div>\n",
              "      <button class=\"colab-df-convert\" onclick=\"convertToInteractive('df-00ad0f5b-649d-437c-aa98-4ed7ecf3d7a8')\"\n",
              "              title=\"Convert this dataframe to an interactive table.\"\n",
              "              style=\"display:none;\">\n",
              "        \n",
              "  <svg xmlns=\"http://www.w3.org/2000/svg\" height=\"24px\"viewBox=\"0 0 24 24\"\n",
              "       width=\"24px\">\n",
              "    <path d=\"M0 0h24v24H0V0z\" fill=\"none\"/>\n",
              "    <path d=\"M18.56 5.44l.94 2.06.94-2.06 2.06-.94-2.06-.94-.94-2.06-.94 2.06-2.06.94zm-11 1L8.5 8.5l.94-2.06 2.06-.94-2.06-.94L8.5 2.5l-.94 2.06-2.06.94zm10 10l.94 2.06.94-2.06 2.06-.94-2.06-.94-.94-2.06-.94 2.06-2.06.94z\"/><path d=\"M17.41 7.96l-1.37-1.37c-.4-.4-.92-.59-1.43-.59-.52 0-1.04.2-1.43.59L10.3 9.45l-7.72 7.72c-.78.78-.78 2.05 0 2.83L4 21.41c.39.39.9.59 1.41.59.51 0 1.02-.2 1.41-.59l7.78-7.78 2.81-2.81c.8-.78.8-2.07 0-2.86zM5.41 20L4 18.59l7.72-7.72 1.47 1.35L5.41 20z\"/>\n",
              "  </svg>\n",
              "      </button>\n",
              "      \n",
              "  <style>\n",
              "    .colab-df-container {\n",
              "      display:flex;\n",
              "      flex-wrap:wrap;\n",
              "      gap: 12px;\n",
              "    }\n",
              "\n",
              "    .colab-df-convert {\n",
              "      background-color: #E8F0FE;\n",
              "      border: none;\n",
              "      border-radius: 50%;\n",
              "      cursor: pointer;\n",
              "      display: none;\n",
              "      fill: #1967D2;\n",
              "      height: 32px;\n",
              "      padding: 0 0 0 0;\n",
              "      width: 32px;\n",
              "    }\n",
              "\n",
              "    .colab-df-convert:hover {\n",
              "      background-color: #E2EBFA;\n",
              "      box-shadow: 0px 1px 2px rgba(60, 64, 67, 0.3), 0px 1px 3px 1px rgba(60, 64, 67, 0.15);\n",
              "      fill: #174EA6;\n",
              "    }\n",
              "\n",
              "    [theme=dark] .colab-df-convert {\n",
              "      background-color: #3B4455;\n",
              "      fill: #D2E3FC;\n",
              "    }\n",
              "\n",
              "    [theme=dark] .colab-df-convert:hover {\n",
              "      background-color: #434B5C;\n",
              "      box-shadow: 0px 1px 3px 1px rgba(0, 0, 0, 0.15);\n",
              "      filter: drop-shadow(0px 1px 2px rgba(0, 0, 0, 0.3));\n",
              "      fill: #FFFFFF;\n",
              "    }\n",
              "  </style>\n",
              "\n",
              "      <script>\n",
              "        const buttonEl =\n",
              "          document.querySelector('#df-00ad0f5b-649d-437c-aa98-4ed7ecf3d7a8 button.colab-df-convert');\n",
              "        buttonEl.style.display =\n",
              "          google.colab.kernel.accessAllowed ? 'block' : 'none';\n",
              "\n",
              "        async function convertToInteractive(key) {\n",
              "          const element = document.querySelector('#df-00ad0f5b-649d-437c-aa98-4ed7ecf3d7a8');\n",
              "          const dataTable =\n",
              "            await google.colab.kernel.invokeFunction('convertToInteractive',\n",
              "                                                     [key], {});\n",
              "          if (!dataTable) return;\n",
              "\n",
              "          const docLinkHtml = 'Like what you see? Visit the ' +\n",
              "            '<a target=\"_blank\" href=https://colab.research.google.com/notebooks/data_table.ipynb>data table notebook</a>'\n",
              "            + ' to learn more about interactive tables.';\n",
              "          element.innerHTML = '';\n",
              "          dataTable['output_type'] = 'display_data';\n",
              "          await google.colab.output.renderOutput(dataTable, element);\n",
              "          const docLink = document.createElement('div');\n",
              "          docLink.innerHTML = docLinkHtml;\n",
              "          element.appendChild(docLink);\n",
              "        }\n",
              "      </script>\n",
              "    </div>\n",
              "  </div>\n",
              "  "
            ],
            "text/plain": [
              "             calls      minutes     messages       mb_used     is_ultra\n",
              "count  3214.000000  3214.000000  3214.000000   3214.000000  3214.000000\n",
              "mean     63.038892   438.208787    38.281269  17207.673836     0.306472\n",
              "std      33.236368   234.569872    36.148326   7570.968246     0.461100\n",
              "min       0.000000     0.000000     0.000000      0.000000     0.000000\n",
              "25%      40.000000   274.575000     9.000000  12491.902500     0.000000\n",
              "50%      62.000000   430.600000    30.000000  16943.235000     0.000000\n",
              "75%      82.000000   571.927500    57.000000  21424.700000     1.000000\n",
              "max     244.000000  1632.060000   224.000000  49745.730000     1.000000"
            ]
          },
          "metadata": {},
          "execution_count": 9
        }
      ]
    },
    {
      "cell_type": "code",
      "source": [
        "#checking for missing values\n",
        "round(100*(user_behaviour.isnull().sum()/len(user_behaviour.index)), 2).sort_values(ascending = False) "
      ],
      "metadata": {
        "colab": {
          "base_uri": "https://localhost:8080/"
        },
        "id": "Rfvz0BLe7dgI",
        "outputId": "652d36db-d2a0-4893-e5c7-f0a66f0db826"
      },
      "execution_count": null,
      "outputs": [
        {
          "output_type": "execute_result",
          "data": {
            "text/plain": [
              "calls       0.0\n",
              "minutes     0.0\n",
              "messages    0.0\n",
              "mb_used     0.0\n",
              "is_ultra    0.0\n",
              "dtype: float64"
            ]
          },
          "metadata": {},
          "execution_count": 10
        }
      ]
    },
    {
      "cell_type": "code",
      "source": [
        "print(user_behaviour.describe())\n",
        "print()\n",
        "print('The number of non-ultra customers is:', user_behaviour.is_ultra.loc[user_behaviour.is_ultra == 0].count())\n",
        "print()\n",
        "print('The number of ultra customers is:', user_behaviour.is_ultra.loc[user_behaviour.is_ultra == 1].count())\n",
        "print()\n",
        "print('The percentage of non-ultra customers is:', (len(user_behaviour.is_ultra.loc[user_behaviour.is_ultra == 0])/len(user_behaviour.is_ultra)*100),'%')\n",
        "print()\n",
        "print('The percentage of ultra customers is:', (len(user_behaviour.is_ultra.loc[user_behaviour.is_ultra == 1])/len(user_behaviour.is_ultra)*100),'%')"
      ],
      "metadata": {
        "colab": {
          "base_uri": "https://localhost:8080/"
        },
        "id": "fLRznOWDV9aJ",
        "outputId": "0f1d6667-efd3-4b9f-937d-b994442c9ee3"
      },
      "execution_count": 6,
      "outputs": [
        {
          "output_type": "stream",
          "name": "stdout",
          "text": [
            "             calls      minutes     messages       mb_used     is_ultra\n",
            "count  3214.000000  3214.000000  3214.000000   3214.000000  3214.000000\n",
            "mean     63.038892   438.208787    38.281269  17207.673836     0.306472\n",
            "std      33.236368   234.569872    36.148326   7570.968246     0.461100\n",
            "min       0.000000     0.000000     0.000000      0.000000     0.000000\n",
            "25%      40.000000   274.575000     9.000000  12491.902500     0.000000\n",
            "50%      62.000000   430.600000    30.000000  16943.235000     0.000000\n",
            "75%      82.000000   571.927500    57.000000  21424.700000     1.000000\n",
            "max     244.000000  1632.060000   224.000000  49745.730000     1.000000\n",
            "\n",
            "The number of non-ultra customers is: 2229\n",
            "\n",
            "The number of ultra customers is: 985\n",
            "\n",
            "The percentage of non-ultra customers is: 69.35283136278781 %\n",
            "\n",
            "The percentage of ultra customers is: 30.647168637212197 %\n"
          ]
        }
      ]
    },
    {
      "cell_type": "code",
      "source": [
        "#Creating a target variable.\n",
        "x_true = user_behaviour.is_ultra.values\n",
        "\n",
        "#Printing how the variable itself + len of the variable.\n",
        "print(x_true)\n",
        "print()\n",
        "print(len(x_true)) #Should return the len of the starting dataframe..is_ultra.values\n",
        "\n",
        "#Printing how the variable itself + len of the variable.\n",
        "print(x_true)\n",
        "print()\n",
        "print(len(x_true)) #Should return the len of the starting dataframe."
      ],
      "metadata": {
        "colab": {
          "base_uri": "https://localhost:8080/"
        },
        "id": "qtkseDrrWg6j",
        "outputId": "47d7e095-2486-4c21-a135-334071d7c36e"
      },
      "execution_count": 11,
      "outputs": [
        {
          "output_type": "stream",
          "name": "stdout",
          "text": [
            "[0 0 0 ... 0 0 1]\n",
            "\n",
            "3214\n",
            "[0 0 0 ... 0 0 1]\n",
            "\n",
            "3214\n"
          ]
        }
      ]
    },
    {
      "cell_type": "markdown",
      "source": [
        "#2.Data Preparation"
      ],
      "metadata": {
        "id": "tjMHbtGO3Ukw"
      }
    },
    {
      "cell_type": "code",
      "source": [
        "# Splitting the data into train and test.\n",
        "user_behaviour_train, user_behaviour_test = train_test_split(user_behaviour, stratify=x_true, test_size=0.25, random_state=12345)\n",
        "\n",
        "#Splitting the training dataset into train validation and cross validation.\n",
        "user_behaviour_train, user_behaviour_valid = train_test_split(user_behaviour_train, test_size=0.25, random_state=12345)"
      ],
      "metadata": {
        "id": "4CfDKBVvVOQ4"
      },
      "execution_count": 21,
      "outputs": []
    },
    {
      "cell_type": "code",
      "source": [
        "#Train and Cross validation dataset are going to be used to build the model itself.\n",
        "#Test is going to check the accuracy of our model output.\n",
        "\n",
        "print('Number of records in training dataset:', user_behaviour_train.shape[0])\n",
        "print('Number of records in cross validation dataset:', user_behaviour_valid.shape[0])\n",
        "print('Number of records in the test dataset:', user_behaviour_test.shape[0])\n",
        "print('')\n"
      ],
      "metadata": {
        "colab": {
          "base_uri": "https://localhost:8080/"
        },
        "id": "4IpbJEmmXN_X",
        "outputId": "6303d0b3-5311-445d-e050-ad56ed85e9be"
      },
      "execution_count": 22,
      "outputs": [
        {
          "output_type": "stream",
          "name": "stdout",
          "text": [
            "Number of records in training dataset: 1807\n",
            "Number of records in cross validation dataset: 603\n",
            "Number of records in the test dataset: 804\n",
            "\n"
          ]
        }
      ]
    },
    {
      "cell_type": "code",
      "source": [
        "#To make sure that our testing is going to have a positive result,\n",
        "#We can save the column in a variable to compare that to the model results obtained.\n",
        "\n",
        "checking_values = user_behaviour_test.is_ultra #This is going to become the array to check the accuracy of our model."
      ],
      "metadata": {
        "id": "MoNdwaT0YYXa"
      },
      "execution_count": 23,
      "outputs": []
    },
    {
      "cell_type": "code",
      "source": [
        "#Creating features and targets for our model.\n",
        "\n",
        "features_train = user_behaviour_train.drop(['is_ultra'], axis=1)\n",
        "target_train = user_behaviour_train['is_ultra']\n",
        "features_valid = user_behaviour_valid.drop(['is_ultra'], axis=1)\n",
        "target_valid = user_behaviour_valid['is_ultra']\n",
        "features_test = user_behaviour_test.drop(['is_ultra'], axis=1)\n",
        "target_test = user_behaviour_test['is_ultra']\n"
      ],
      "metadata": {
        "id": "jgWdYW2zAZWJ"
      },
      "execution_count": 24,
      "outputs": []
    },
    {
      "cell_type": "code",
      "source": [
        "#Let's take a look to the distribution of is_ultra column in the three dataset that we should make sure, that everyone of our datasets \n",
        "#has at least a 25% of ultra customers in it. \n",
        "#To change this split is just necessary changing random_state parameter in train_test_split function\n",
        "\n",
        "train_is_ultra_distribution = user_behaviour_train['is_ultra'].value_counts(normalize=True)\n",
        "cv_is_ultra_distribution = user_behaviour_valid['is_ultra'].value_counts(normalize=True)\n",
        "test_is_ultra_distribution =  checking_values.value_counts(normalize=True)\n",
        "\n",
        "print('Train dataset:')\n",
        "print(train_is_ultra_distribution)\n",
        "print()\n",
        "print('Validation dataset:')\n",
        "print(cv_is_ultra_distribution)\n",
        "print()\n",
        "print('Testing array:')\n",
        "print(test_is_ultra_distribution)\n"
      ],
      "metadata": {
        "colab": {
          "base_uri": "https://localhost:8080/"
        },
        "id": "Epicfp166fNe",
        "outputId": "a9604373-da11-469b-8054-7a51b8fa9b46"
      },
      "execution_count": 25,
      "outputs": [
        {
          "output_type": "stream",
          "name": "stdout",
          "text": [
            "Train dataset:\n",
            "0    0.691201\n",
            "1    0.308799\n",
            "Name: is_ultra, dtype: float64\n",
            "\n",
            "Validation dataset:\n",
            "0    0.699834\n",
            "1    0.300166\n",
            "Name: is_ultra, dtype: float64\n",
            "\n",
            "Testing array:\n",
            "0    0.69403\n",
            "1    0.30597\n",
            "Name: is_ultra, dtype: float64\n"
          ]
        }
      ]
    },
    {
      "cell_type": "markdown",
      "source": [
        "# 3.Data Modeling"
      ],
      "metadata": {
        "id": "rSYewASP3eaf"
      }
    },
    {
      "cell_type": "code",
      "source": [
        "#Investigating the quality of different models by changing hyperparameters. \n",
        "#We will use these models; DecisionTreeClassifier / RandomForestClassifier / LogisticRegression\n",
        "\n",
        "#Finding accuracy score for DecisionTreeClassifier\n",
        "result = []\n",
        "\n",
        "for depth in range(1, 10):\n",
        "        model = DecisionTreeClassifier(random_state = 8, max_depth=depth)\n",
        "\n",
        "#Create a model, specify max_depth=depth >\n",
        "        model.fit(features_train, target_train)\n",
        "#Train the model >\n",
        "        predictions_valid = model.predict(features_valid) \n",
        "#Find the predictions using validation set >        \n",
        "        print(\"max_depth =\", depth, \": \", end='')\n",
        "        acc = accuracy_score(target_valid, predictions_valid)\n",
        "        print(acc)\n",
        "        result.append(acc)\n",
        "print()\n",
        "\n",
        "print('Accuracy Score :', max(result))\n",
        "\n"
      ],
      "metadata": {
        "id": "_NacQ5dI3jof",
        "colab": {
          "base_uri": "https://localhost:8080/"
        },
        "outputId": "e6326c19-4d63-4f22-b28b-c5597c68b171"
      },
      "execution_count": 36,
      "outputs": [
        {
          "output_type": "stream",
          "name": "stdout",
          "text": [
            "max_depth = 1 : 0.75787728026534\n",
            "max_depth = 2 : 0.7910447761194029\n",
            "max_depth = 3 : 0.8009950248756219\n",
            "max_depth = 4 : 0.7960199004975125\n",
            "max_depth = 5 : 0.7943615257048093\n",
            "max_depth = 6 : 0.8126036484245439\n",
            "max_depth = 7 : 0.8009950248756219\n",
            "max_depth = 8 : 0.8092868988391376\n",
            "max_depth = 9 : 0.8009950248756219\n",
            "\n",
            "Accuracy Score : 0.8126036484245439\n"
          ]
        }
      ]
    },
    {
      "cell_type": "code",
      "source": [
        "#Finding Rmse for RandomForestClassifier\n",
        "model = RandomForestClassifier(n_estimators=10,max_depth=10, random_state=8)\n",
        "#Train the model >\n",
        "model.fit(features_train, target_train) \n",
        "#Predict\n",
        "predictions_valid = model.predict(features_valid) \n",
        "\n",
        "acc_forest = accuracy_score(target_valid, predictions_valid)\n",
        "rmse_forest = mean_squared_error(target_valid, predictions_valid)**0.5\n",
        "print('RMSE :', rmse_forest) #the lowest, the best.\n",
        "print('Accuracy score:', acc_forest)"
      ],
      "metadata": {
        "colab": {
          "base_uri": "https://localhost:8080/"
        },
        "id": "fQMKQRny9TRA",
        "outputId": "61e84fc7-9a66-4aef-ad49-f0e41ed3ba05"
      },
      "execution_count": 34,
      "outputs": [
        {
          "output_type": "stream",
          "name": "stdout",
          "text": [
            "RMSE : 0.4552986372567942\n",
            "Accuracy score: 0.7927031509121062\n"
          ]
        }
      ]
    },
    {
      "cell_type": "code",
      "source": [
        "#Finding Rmse values for LogisticRegression\n",
        "\n",
        "model = LogisticRegression(random_state=8, solver='liblinear', max_iter=100)\n",
        "#Train the model >\n",
        "model.fit(features_train, target_train) \n",
        "#Predict\n",
        "predictions_valid = model.predict(features_valid) \n",
        "\n",
        "acc_logistic = accuracy_score(target_valid, predictions_valid)\n",
        "rmse_logistic = mean_squared_error(target_valid, predictions_valid)**0.5\n",
        "print(\"RMSE:\", rmse_logistic) \n",
        "print('Accuracy score:', acc_logistic)"
      ],
      "metadata": {
        "colab": {
          "base_uri": "https://localhost:8080/"
        },
        "id": "A6-lMcN1_un6",
        "outputId": "804dbd94-8354-4b7a-94a6-b546ea580690"
      },
      "execution_count": 37,
      "outputs": [
        {
          "output_type": "stream",
          "name": "stdout",
          "text": [
            "RMSE: 0.5402536103680887\n",
            "Accuracy score: 0.7081260364842454\n"
          ]
        }
      ]
    },
    {
      "cell_type": "code",
      "source": [
        "#Checking  the quality of the model using the test set\n",
        "#Testing the best model on the test dataset.\n",
        "\n",
        "#RandomForest\n",
        "model = RandomForestClassifier(n_estimators=10,max_depth=10, random_state=8)\n",
        "#Train the model >\n",
        "model.fit(features_train, target_train) # < train the model >\n",
        "predictions_test = model.predict(features_test)\n",
        "\n",
        "print(f'Test: {model.score(features_test, target_test):.3f}')\n",
        "print(f'Train: {model.score(features_train, target_train):.3f}')\n",
        "print()\n",
        "print('This model, obtained an 79% accuracy on test dataset, while 89% on the trained dataset.')"
      ],
      "metadata": {
        "colab": {
          "base_uri": "https://localhost:8080/"
        },
        "id": "4w_M0AwQAklq",
        "outputId": "4528b726-a311-4d5c-9dc8-a8138a7d1ac6"
      },
      "execution_count": 40,
      "outputs": [
        {
          "output_type": "stream",
          "name": "stdout",
          "text": [
            "Test: 0.792\n",
            "Train: 0.891\n",
            "\n",
            "This model, obtained an 79% accuracy on test dataset, while 89% on the trained dataset.\n"
          ]
        }
      ]
    },
    {
      "cell_type": "code",
      "source": [
        "#LogisticRegression\n",
        "model = LogisticRegression(random_state=8, solver='liblinear', max_iter=100)\n",
        "#Train the model >\n",
        "model.fit(features_train, target_train) \n",
        "#Predict\n",
        "predictions_valid = model.predict(features_valid) \n",
        "\n",
        "print(f'Test: {model.score(features_test, target_test):.3f}')\n",
        "print(f'Train: {model.score(features_train, target_train):.3f}')\n",
        "print()\n",
        "print('This model, obtained an 71% accuracy on test dataset, while 71% on the trained dataset.')"
      ],
      "metadata": {
        "colab": {
          "base_uri": "https://localhost:8080/"
        },
        "id": "TmPWwJXkDYwT",
        "outputId": "81ad62b9-31ed-4669-a8db-e6ac14ac8838"
      },
      "execution_count": 42,
      "outputs": [
        {
          "output_type": "stream",
          "name": "stdout",
          "text": [
            "Test: 0.711\n",
            "Train: 0.717\n",
            "\n",
            "This model, obtained an 71% accuracy on test dataset, while 71% on the trained dataset.\n"
          ]
        }
      ]
    },
    {
      "cell_type": "code",
      "source": [
        "#DecisionTreeClassifier\n",
        "result = []\n",
        "\n",
        "for depth in range(1, 10):\n",
        "        model = DecisionTreeClassifier(random_state = 8, max_depth=depth)\n",
        "\n",
        "#Create a model, specify max_depth=depth >\n",
        "        model.fit(features_train, target_train)\n",
        "#Train the model >\n",
        "        predictions_valid = model.predict(features_valid) \n",
        "\n",
        "print(f'Test: {model.score(features_test, target_test):.3f}')\n",
        "print(f'Train: {model.score(features_train, target_train):.3f}')\n",
        "print()\n",
        "print('This model, obtained an 79% accuracy on test dataset, while 87% on the trained dataset.')\n",
        "\n"
      ],
      "metadata": {
        "colab": {
          "base_uri": "https://localhost:8080/"
        },
        "id": "Ve2y0zidD0-k",
        "outputId": "48595c42-25ac-4f59-8f6e-dfac67bd2a3a"
      },
      "execution_count": 45,
      "outputs": [
        {
          "output_type": "stream",
          "name": "stdout",
          "text": [
            "Test: 0.792\n",
            "Train: 0.879\n",
            "\n",
            "This model, obtained an 79% accuracy on test dataset, while 87% on the trained dataset.\n"
          ]
        }
      ]
    },
    {
      "cell_type": "code",
      "source": [
        "#Sanity check the model.\n",
        "#Predictions array.\n",
        "print(predictions_test)\n",
        "print(len(predictions_test))"
      ],
      "metadata": {
        "id": "wY4unXqPAn4h",
        "colab": {
          "base_uri": "https://localhost:8080/"
        },
        "outputId": "fc7c1785-699a-4cf8-d94d-8bf71421c676"
      },
      "execution_count": 46,
      "outputs": [
        {
          "output_type": "stream",
          "name": "stdout",
          "text": [
            "[0 0 1 0 0 0 0 0 1 0 1 0 1 0 0 1 0 0 0 1 0 0 0 0 0 0 1 0 1 0 0 0 1 0 1 0 1\n",
            " 1 0 0 0 0 0 0 0 0 0 1 0 1 0 0 0 0 0 1 1 0 0 0 0 0 1 0 0 0 0 0 0 1 0 0 1 0\n",
            " 0 0 0 1 0 0 1 1 1 0 1 0 0 0 0 0 1 0 0 0 1 1 0 0 1 0 1 1 0 1 0 0 0 0 0 0 0\n",
            " 0 0 1 0 0 0 0 0 0 0 0 0 0 0 0 0 0 1 1 0 0 0 1 1 0 1 1 0 0 0 0 0 0 0 0 1 0\n",
            " 0 0 0 0 1 0 0 0 1 0 1 0 0 0 0 0 0 0 0 1 0 0 0 0 0 1 0 0 1 1 1 0 1 1 0 0 0\n",
            " 0 1 0 0 0 0 0 0 1 0 0 0 0 0 0 0 0 1 0 0 0 1 1 0 0 0 0 1 0 1 0 0 1 0 0 1 0\n",
            " 0 0 0 0 0 0 0 0 0 0 0 1 0 0 0 0 0 0 1 0 0 0 0 0 0 0 0 0 0 0 0 0 0 0 0 0 0\n",
            " 0 0 0 0 1 0 0 0 1 0 0 0 0 0 0 0 0 0 0 0 0 0 0 0 0 1 1 0 0 0 0 0 0 0 0 0 1\n",
            " 0 0 0 0 0 0 0 1 1 0 1 0 0 0 0 0 0 0 0 0 1 0 0 1 1 0 0 0 1 1 0 0 0 1 0 0 0\n",
            " 0 1 0 0 0 0 0 0 0 0 0 0 0 0 0 0 0 0 0 1 0 0 0 1 0 1 0 1 0 0 0 1 0 1 0 0 1\n",
            " 1 0 1 1 0 0 0 1 0 0 0 0 0 0 0 1 0 0 1 0 0 1 0 1 0 0 0 0 0 0 1 0 0 0 0 0 0\n",
            " 0 0 0 0 0 0 0 0 1 0 1 0 0 0 1 0 1 0 0 0 1 0 1 0 0 1 0 0 0 0 0 0 0 0 0 1 0\n",
            " 0 0 0 1 1 0 0 0 0 0 1 1 0 0 0 0 1 0 0 1 0 0 0 0 0 0 0 1 0 0 0 0 1 1 1 0 0\n",
            " 0 0 0 0 1 0 0 0 0 0 1 0 0 0 0 0 0 1 1 1 0 0 1 0 0 0 1 0 1 0 0 1 1 0 0 0 0\n",
            " 0 0 0 0 0 0 0 0 0 0 0 1 0 0 0 1 0 0 0 0 0 1 1 0 0 0 0 0 1 0 0 0 0 1 0 0 0\n",
            " 0 0 0 0 0 0 0 0 0 0 0 0 0 0 0 0 0 0 0 0 0 1 0 0 0 0 1 1 0 0 1 0 0 0 0 0 0\n",
            " 0 0 0 0 0 0 1 1 0 1 0 0 1 0 0 0 0 1 0 0 0 0 0 0 0 0 0 0 0 0 0 0 0 1 0 0 0\n",
            " 0 0 1 0 1 0 0 0 1 1 0 0 0 0 1 0 0 1 0 1 1 1 1 0 0 0 1 1 0 0 1 1 0 1 0 0 0\n",
            " 1 0 0 0 0 0 0 0 0 1 0 0 0 0 0 0 1 1 0 1 0 0 0 0 0 0 0 0 0 0 0 0 0 0 1 0 0\n",
            " 0 1 0 0 0 0 0 0 0 0 0 0 0 1 0 0 0 1 0 0 0 0 0 0 0 0 0 0 0 0 0 0 0 0 0 0 0\n",
            " 1 0 0 0 0 0 0 0 0 1 0 1 0 0 0 0 0 0 1 1 1 0 0 0 1 1 0 1 1 0 1 0 1 0 0 0 0\n",
            " 1 0 0 0 0 1 0 0 0 0 1 0 1 0 0 0 0 0 0 1 1 0 1 0 0 1 0]\n",
            "804\n"
          ]
        }
      ]
    },
    {
      "cell_type": "code",
      "source": [
        "#Checking values array.\n",
        "print(checking_values.values)\n",
        "print(len(checking_values))"
      ],
      "metadata": {
        "colab": {
          "base_uri": "https://localhost:8080/"
        },
        "id": "5YUiOmFBFOvs",
        "outputId": "fba80112-7739-4415-d0cd-89ef73f33668"
      },
      "execution_count": 47,
      "outputs": [
        {
          "output_type": "stream",
          "name": "stdout",
          "text": [
            "[0 1 1 1 0 0 0 0 1 1 0 0 1 0 0 1 0 1 0 1 1 0 0 0 0 0 1 0 1 1 0 0 1 0 1 1 0\n",
            " 0 0 0 0 0 0 0 0 0 0 1 0 1 0 0 0 1 1 0 0 0 1 0 0 0 1 1 0 0 1 1 0 1 0 0 0 1\n",
            " 0 0 0 0 0 1 0 1 1 0 0 1 0 0 0 0 1 0 0 0 1 1 1 0 1 0 1 1 0 1 0 0 1 1 0 0 0\n",
            " 0 0 1 0 1 0 0 0 0 0 0 0 1 0 0 0 0 1 1 0 0 0 1 1 0 1 1 0 0 0 1 0 0 0 0 0 0\n",
            " 0 1 0 0 1 0 0 0 1 0 1 0 0 0 0 0 0 0 0 1 0 0 0 0 0 0 1 0 0 1 1 0 1 1 1 0 0\n",
            " 0 1 0 0 0 0 0 0 1 0 0 0 0 1 1 0 1 1 0 0 1 1 1 0 0 1 0 1 1 0 0 0 1 0 0 1 0\n",
            " 0 0 0 1 0 0 0 1 0 0 0 0 0 0 1 0 0 0 1 0 1 0 0 0 1 0 0 1 0 0 0 0 0 0 0 0 1\n",
            " 0 1 0 0 1 0 1 0 1 1 0 0 0 0 0 0 0 1 0 0 1 0 0 0 0 1 0 1 0 0 0 0 0 0 0 1 1\n",
            " 0 0 0 0 0 0 1 0 1 1 1 0 0 0 0 0 0 0 1 0 1 0 0 0 0 0 1 0 0 1 1 0 0 1 0 0 0\n",
            " 1 1 0 0 0 1 0 0 0 0 0 0 0 0 0 0 0 0 0 1 0 0 1 0 0 1 0 1 0 0 0 0 0 1 1 0 1\n",
            " 1 1 1 0 1 0 0 1 0 0 0 0 0 0 0 1 0 1 1 0 0 0 0 1 0 1 0 0 0 0 0 1 0 0 0 0 0\n",
            " 1 0 0 1 0 0 0 1 1 1 1 1 0 0 1 0 1 0 0 1 1 0 1 1 0 1 0 0 0 0 0 0 0 0 0 1 0\n",
            " 0 0 0 1 1 0 0 0 0 0 1 1 1 1 0 0 0 0 1 0 0 0 0 0 0 0 0 0 0 0 0 0 1 1 1 0 0\n",
            " 0 0 0 0 1 0 0 0 0 0 0 0 0 1 0 0 0 1 1 1 0 0 1 1 0 0 1 0 1 0 0 0 1 1 0 0 0\n",
            " 0 0 0 0 0 0 0 0 0 0 0 0 0 0 0 1 1 1 1 0 0 1 1 0 0 0 0 0 1 1 0 0 0 1 0 0 0\n",
            " 0 0 0 0 0 0 0 0 0 1 0 0 0 0 0 0 0 1 0 1 0 1 0 0 0 0 1 0 0 1 1 0 0 0 1 0 0\n",
            " 0 1 0 1 0 0 1 0 0 1 0 0 1 0 0 0 0 1 0 0 0 0 0 0 0 0 0 0 0 0 0 0 0 1 0 1 0\n",
            " 0 0 1 1 1 0 0 0 1 0 0 0 0 0 1 1 1 0 0 1 1 1 1 0 0 0 1 1 0 0 1 1 1 0 0 0 0\n",
            " 0 0 0 0 0 0 1 0 0 1 1 0 0 1 0 0 1 0 1 0 0 0 0 0 1 0 1 0 1 1 0 0 0 0 1 0 1\n",
            " 0 0 1 0 0 0 0 1 0 0 0 1 0 1 0 0 1 1 0 1 0 0 1 0 0 0 1 0 1 1 1 0 0 0 0 1 0\n",
            " 0 0 0 0 0 1 0 0 0 0 0 1 0 0 0 0 0 0 1 0 0 0 1 0 0 1 0 1 1 0 0 0 0 0 1 0 0\n",
            " 1 0 0 0 1 0 0 0 0 0 0 1 0 0 0 1 0 0 1 1 1 0 0 1 0 1 1]\n",
            "804\n"
          ]
        }
      ]
    },
    {
      "cell_type": "code",
      "source": [
        "score = accuracy_score(target_test, predictions_test)\n",
        "print(score)"
      ],
      "metadata": {
        "colab": {
          "base_uri": "https://localhost:8080/"
        },
        "id": "j5SVtHZIFYZJ",
        "outputId": "9c849363-c4d1-4377-bb29-662142a063e9"
      },
      "execution_count": 48,
      "outputs": [
        {
          "output_type": "stream",
          "name": "stdout",
          "text": [
            "0.7922885572139303\n"
          ]
        }
      ]
    },
    {
      "cell_type": "markdown",
      "source": [
        "# 4.Summary of Findings and Recommendations"
      ],
      "metadata": {
        "id": "EY8IpTTs3ko_"
      }
    },
    {
      "cell_type": "markdown",
      "source": [
        "I analyzed the dataset , trying to build a model with the maximum possible accuracy to predict the plan of a certain customer, whether ultra or non-ultra.\n",
        "\n",
        "After choosing, training and testing the model(DecisionTreeClassifier) I was able to obtain 81% of accuracy in my model. 79% on Test data  and 87% on Train data. \n"
      ],
      "metadata": {
        "id": "iKnFG_cnGgbx"
      }
    }
  ]
}